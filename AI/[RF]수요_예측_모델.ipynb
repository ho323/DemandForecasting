{
 "cells": [
  {
   "cell_type": "code",
   "execution_count": 156,
   "id": "3a728fa0",
   "metadata": {},
   "outputs": [],
   "source": [
    "import math\n",
    "import matplotlib.pyplot as plt\n",
    "import keras\n",
    "import pandas as pd\n",
    "import numpy as np\n",
    "import pyarrow.feather as feather\n",
    "\n",
    "from keras.models import Sequential\n",
    "from keras.layers import Dense\n",
    "from keras.layers import LSTM\n",
    "from keras.layers import Dropout\n",
    "from keras.layers import *\n",
    "\n",
    "from sklearn.preprocessing import MinMaxScaler\n",
    "from sklearn.metrics import mean_squared_error\n",
    "from sklearn.metrics import mean_absolute_error\n",
    "from sklearn.model_selection import train_test_split\n",
    "from keras.callbacks import EarlyStopping\n",
    "\n",
    "from sklearn.ensemble import RandomForestRegressor\n",
    "from sklearn.model_selection import train_test_split\n",
    "from sklearn.metrics import mean_squared_error\n",
    "\n",
    "from sklearn.preprocessing import LabelEncoder"
   ]
  },
  {
   "cell_type": "code",
   "execution_count": 142,
   "id": "4f981aab",
   "metadata": {},
   "outputs": [
    {
     "data": {
      "text/html": [
       "<div>\n",
       "<style scoped>\n",
       "    .dataframe tbody tr th:only-of-type {\n",
       "        vertical-align: middle;\n",
       "    }\n",
       "\n",
       "    .dataframe tbody tr th {\n",
       "        vertical-align: top;\n",
       "    }\n",
       "\n",
       "    .dataframe thead th {\n",
       "        text-align: right;\n",
       "    }\n",
       "</style>\n",
       "<table border=\"1\" class=\"dataframe\">\n",
       "  <thead>\n",
       "    <tr style=\"text-align: right;\">\n",
       "      <th></th>\n",
       "      <th>FKDAT</th>\n",
       "      <th>WEEKDAY</th>\n",
       "      <th>KUNNR</th>\n",
       "      <th>FKART</th>\n",
       "      <th>AUGRU_AUFT</th>\n",
       "      <th>MATNR</th>\n",
       "      <th>VRKME_x</th>\n",
       "      <th>SPART</th>\n",
       "      <th>FKIMG</th>\n",
       "      <th>FKLMG</th>\n",
       "      <th>...</th>\n",
       "      <th>MSTAE</th>\n",
       "      <th>MAXLZ</th>\n",
       "      <th>LZEIH</th>\n",
       "      <th>TEXT1</th>\n",
       "      <th>REG_DATE</th>\n",
       "      <th>REG_ID</th>\n",
       "      <th>CHG_DATE</th>\n",
       "      <th>CHG_ID</th>\n",
       "      <th>GEWEI</th>\n",
       "      <th>WEB_GB</th>\n",
       "    </tr>\n",
       "  </thead>\n",
       "  <tbody>\n",
       "    <tr>\n",
       "      <th>0</th>\n",
       "      <td>2020-01-01</td>\n",
       "      <td>2</td>\n",
       "      <td>1806139</td>\n",
       "      <td>F2</td>\n",
       "      <td>901</td>\n",
       "      <td>770008</td>\n",
       "      <td>KG</td>\n",
       "      <td>02</td>\n",
       "      <td>6800.0</td>\n",
       "      <td>6800.0</td>\n",
       "      <td>...</td>\n",
       "      <td></td>\n",
       "      <td>14</td>\n",
       "      <td>DAY</td>\n",
       "      <td>일수</td>\n",
       "      <td>2022-05-27 15:26:12.000</td>\n",
       "      <td></td>\n",
       "      <td>2023-04-06 05:20:04.000</td>\n",
       "      <td>BATCH</td>\n",
       "      <td>KG</td>\n",
       "      <td>Y</td>\n",
       "    </tr>\n",
       "    <tr>\n",
       "      <th>1</th>\n",
       "      <td>2020-01-01</td>\n",
       "      <td>2</td>\n",
       "      <td>1806139</td>\n",
       "      <td>S1</td>\n",
       "      <td>901</td>\n",
       "      <td>770008</td>\n",
       "      <td>KG</td>\n",
       "      <td>02</td>\n",
       "      <td>-3400.0</td>\n",
       "      <td>-3400.0</td>\n",
       "      <td>...</td>\n",
       "      <td></td>\n",
       "      <td>14</td>\n",
       "      <td>DAY</td>\n",
       "      <td>일수</td>\n",
       "      <td>2022-05-27 15:26:12.000</td>\n",
       "      <td></td>\n",
       "      <td>2023-04-06 05:20:04.000</td>\n",
       "      <td>BATCH</td>\n",
       "      <td>KG</td>\n",
       "      <td>Y</td>\n",
       "    </tr>\n",
       "    <tr>\n",
       "      <th>2</th>\n",
       "      <td>2020-01-02</td>\n",
       "      <td>3</td>\n",
       "      <td>1806139</td>\n",
       "      <td>F2</td>\n",
       "      <td>901</td>\n",
       "      <td>770008</td>\n",
       "      <td>KG</td>\n",
       "      <td>02</td>\n",
       "      <td>6520.0</td>\n",
       "      <td>6520.0</td>\n",
       "      <td>...</td>\n",
       "      <td></td>\n",
       "      <td>14</td>\n",
       "      <td>DAY</td>\n",
       "      <td>일수</td>\n",
       "      <td>2022-05-27 15:26:12.000</td>\n",
       "      <td></td>\n",
       "      <td>2023-04-06 05:20:04.000</td>\n",
       "      <td>BATCH</td>\n",
       "      <td>KG</td>\n",
       "      <td>Y</td>\n",
       "    </tr>\n",
       "    <tr>\n",
       "      <th>3</th>\n",
       "      <td>2020-01-02</td>\n",
       "      <td>3</td>\n",
       "      <td>1806139</td>\n",
       "      <td>S1</td>\n",
       "      <td>901</td>\n",
       "      <td>770008</td>\n",
       "      <td>KG</td>\n",
       "      <td>02</td>\n",
       "      <td>-3260.0</td>\n",
       "      <td>-3260.0</td>\n",
       "      <td>...</td>\n",
       "      <td></td>\n",
       "      <td>14</td>\n",
       "      <td>DAY</td>\n",
       "      <td>일수</td>\n",
       "      <td>2022-05-27 15:26:12.000</td>\n",
       "      <td></td>\n",
       "      <td>2023-04-06 05:20:04.000</td>\n",
       "      <td>BATCH</td>\n",
       "      <td>KG</td>\n",
       "      <td>Y</td>\n",
       "    </tr>\n",
       "    <tr>\n",
       "      <th>4</th>\n",
       "      <td>2020-01-03</td>\n",
       "      <td>4</td>\n",
       "      <td>1806139</td>\n",
       "      <td>S1</td>\n",
       "      <td>901</td>\n",
       "      <td>770008</td>\n",
       "      <td>KG</td>\n",
       "      <td>02</td>\n",
       "      <td>-3060.0</td>\n",
       "      <td>-3060.0</td>\n",
       "      <td>...</td>\n",
       "      <td></td>\n",
       "      <td>14</td>\n",
       "      <td>DAY</td>\n",
       "      <td>일수</td>\n",
       "      <td>2022-05-27 15:26:12.000</td>\n",
       "      <td></td>\n",
       "      <td>2023-04-06 05:20:04.000</td>\n",
       "      <td>BATCH</td>\n",
       "      <td>KG</td>\n",
       "      <td>Y</td>\n",
       "    </tr>\n",
       "    <tr>\n",
       "      <th>...</th>\n",
       "      <td>...</td>\n",
       "      <td>...</td>\n",
       "      <td>...</td>\n",
       "      <td>...</td>\n",
       "      <td>...</td>\n",
       "      <td>...</td>\n",
       "      <td>...</td>\n",
       "      <td>...</td>\n",
       "      <td>...</td>\n",
       "      <td>...</td>\n",
       "      <td>...</td>\n",
       "      <td>...</td>\n",
       "      <td>...</td>\n",
       "      <td>...</td>\n",
       "      <td>...</td>\n",
       "      <td>...</td>\n",
       "      <td>...</td>\n",
       "      <td>...</td>\n",
       "      <td>...</td>\n",
       "      <td>...</td>\n",
       "      <td>...</td>\n",
       "    </tr>\n",
       "    <tr>\n",
       "      <th>873254</th>\n",
       "      <td>2022-12-27</td>\n",
       "      <td>1</td>\n",
       "      <td>1313795</td>\n",
       "      <td>F2</td>\n",
       "      <td>901</td>\n",
       "      <td>770201</td>\n",
       "      <td>KG</td>\n",
       "      <td>02</td>\n",
       "      <td>136.0</td>\n",
       "      <td>136.0</td>\n",
       "      <td>...</td>\n",
       "      <td></td>\n",
       "      <td>72</td>\n",
       "      <td>H</td>\n",
       "      <td>시간</td>\n",
       "      <td>2023-01-11 17:34:24.000</td>\n",
       "      <td>BATCH</td>\n",
       "      <td>2023-01-28 05:20:01.000</td>\n",
       "      <td>BATCH</td>\n",
       "      <td>KG</td>\n",
       "      <td></td>\n",
       "    </tr>\n",
       "    <tr>\n",
       "      <th>873255</th>\n",
       "      <td>2022-12-28</td>\n",
       "      <td>2</td>\n",
       "      <td>1313795</td>\n",
       "      <td>F2</td>\n",
       "      <td>901</td>\n",
       "      <td>770201</td>\n",
       "      <td>KG</td>\n",
       "      <td>02</td>\n",
       "      <td>255.0</td>\n",
       "      <td>255.0</td>\n",
       "      <td>...</td>\n",
       "      <td></td>\n",
       "      <td>72</td>\n",
       "      <td>H</td>\n",
       "      <td>시간</td>\n",
       "      <td>2023-01-11 17:34:24.000</td>\n",
       "      <td>BATCH</td>\n",
       "      <td>2023-01-28 05:20:01.000</td>\n",
       "      <td>BATCH</td>\n",
       "      <td>KG</td>\n",
       "      <td></td>\n",
       "    </tr>\n",
       "    <tr>\n",
       "      <th>873256</th>\n",
       "      <td>2022-12-29</td>\n",
       "      <td>3</td>\n",
       "      <td>1313795</td>\n",
       "      <td>F2</td>\n",
       "      <td>901</td>\n",
       "      <td>770201</td>\n",
       "      <td>KG</td>\n",
       "      <td>02</td>\n",
       "      <td>289.0</td>\n",
       "      <td>289.0</td>\n",
       "      <td>...</td>\n",
       "      <td></td>\n",
       "      <td>72</td>\n",
       "      <td>H</td>\n",
       "      <td>시간</td>\n",
       "      <td>2023-01-11 17:34:24.000</td>\n",
       "      <td>BATCH</td>\n",
       "      <td>2023-01-28 05:20:01.000</td>\n",
       "      <td>BATCH</td>\n",
       "      <td>KG</td>\n",
       "      <td></td>\n",
       "    </tr>\n",
       "    <tr>\n",
       "      <th>873257</th>\n",
       "      <td>2022-12-30</td>\n",
       "      <td>4</td>\n",
       "      <td>1313795</td>\n",
       "      <td>F2</td>\n",
       "      <td>901</td>\n",
       "      <td>770201</td>\n",
       "      <td>KG</td>\n",
       "      <td>02</td>\n",
       "      <td>204.0</td>\n",
       "      <td>204.0</td>\n",
       "      <td>...</td>\n",
       "      <td></td>\n",
       "      <td>72</td>\n",
       "      <td>H</td>\n",
       "      <td>시간</td>\n",
       "      <td>2023-01-11 17:34:24.000</td>\n",
       "      <td>BATCH</td>\n",
       "      <td>2023-01-28 05:20:01.000</td>\n",
       "      <td>BATCH</td>\n",
       "      <td>KG</td>\n",
       "      <td></td>\n",
       "    </tr>\n",
       "    <tr>\n",
       "      <th>873258</th>\n",
       "      <td>2022-12-31</td>\n",
       "      <td>5</td>\n",
       "      <td>1313795</td>\n",
       "      <td>F2</td>\n",
       "      <td>901</td>\n",
       "      <td>770201</td>\n",
       "      <td>KG</td>\n",
       "      <td>02</td>\n",
       "      <td>306.0</td>\n",
       "      <td>306.0</td>\n",
       "      <td>...</td>\n",
       "      <td></td>\n",
       "      <td>72</td>\n",
       "      <td>H</td>\n",
       "      <td>시간</td>\n",
       "      <td>2023-01-11 17:34:24.000</td>\n",
       "      <td>BATCH</td>\n",
       "      <td>2023-01-28 05:20:01.000</td>\n",
       "      <td>BATCH</td>\n",
       "      <td>KG</td>\n",
       "      <td></td>\n",
       "    </tr>\n",
       "  </tbody>\n",
       "</table>\n",
       "<p>873259 rows × 101 columns</p>\n",
       "</div>"
      ],
      "text/plain": [
       "            FKDAT  WEEKDAY    KUNNR FKART AUGRU_AUFT   MATNR VRKME_x SPART   \n",
       "0      2020-01-01        2  1806139    F2        901  770008      KG    02  \\\n",
       "1      2020-01-01        2  1806139    S1        901  770008      KG    02   \n",
       "2      2020-01-02        3  1806139    F2        901  770008      KG    02   \n",
       "3      2020-01-02        3  1806139    S1        901  770008      KG    02   \n",
       "4      2020-01-03        4  1806139    S1        901  770008      KG    02   \n",
       "...           ...      ...      ...   ...        ...     ...     ...   ...   \n",
       "873254 2022-12-27        1  1313795    F2        901  770201      KG    02   \n",
       "873255 2022-12-28        2  1313795    F2        901  770201      KG    02   \n",
       "873256 2022-12-29        3  1313795    F2        901  770201      KG    02   \n",
       "873257 2022-12-30        4  1313795    F2        901  770201      KG    02   \n",
       "873258 2022-12-31        5  1313795    F2        901  770201      KG    02   \n",
       "\n",
       "         FKIMG   FKLMG  ... MSTAE  MAXLZ  LZEIH  TEXT1   \n",
       "0       6800.0  6800.0  ...           14    DAY     일수  \\\n",
       "1      -3400.0 -3400.0  ...           14    DAY     일수   \n",
       "2       6520.0  6520.0  ...           14    DAY     일수   \n",
       "3      -3260.0 -3260.0  ...           14    DAY     일수   \n",
       "4      -3060.0 -3060.0  ...           14    DAY     일수   \n",
       "...        ...     ...  ...   ...    ...    ...    ...   \n",
       "873254   136.0   136.0  ...           72      H     시간   \n",
       "873255   255.0   255.0  ...           72      H     시간   \n",
       "873256   289.0   289.0  ...           72      H     시간   \n",
       "873257   204.0   204.0  ...           72      H     시간   \n",
       "873258   306.0   306.0  ...           72      H     시간   \n",
       "\n",
       "                       REG_DATE  REG_ID                 CHG_DATE  CHG_ID   \n",
       "0       2022-05-27 15:26:12.000          2023-04-06 05:20:04.000   BATCH  \\\n",
       "1       2022-05-27 15:26:12.000          2023-04-06 05:20:04.000   BATCH   \n",
       "2       2022-05-27 15:26:12.000          2023-04-06 05:20:04.000   BATCH   \n",
       "3       2022-05-27 15:26:12.000          2023-04-06 05:20:04.000   BATCH   \n",
       "4       2022-05-27 15:26:12.000          2023-04-06 05:20:04.000   BATCH   \n",
       "...                         ...     ...                      ...     ...   \n",
       "873254  2023-01-11 17:34:24.000   BATCH  2023-01-28 05:20:01.000   BATCH   \n",
       "873255  2023-01-11 17:34:24.000   BATCH  2023-01-28 05:20:01.000   BATCH   \n",
       "873256  2023-01-11 17:34:24.000   BATCH  2023-01-28 05:20:01.000   BATCH   \n",
       "873257  2023-01-11 17:34:24.000   BATCH  2023-01-28 05:20:01.000   BATCH   \n",
       "873258  2023-01-11 17:34:24.000   BATCH  2023-01-28 05:20:01.000   BATCH   \n",
       "\n",
       "       GEWEI WEB_GB  \n",
       "0         KG      Y  \n",
       "1         KG      Y  \n",
       "2         KG      Y  \n",
       "3         KG      Y  \n",
       "4         KG      Y  \n",
       "...      ...    ...  \n",
       "873254    KG         \n",
       "873255    KG         \n",
       "873256    KG         \n",
       "873257    KG         \n",
       "873258    KG         \n",
       "\n",
       "[873259 rows x 101 columns]"
      ]
     },
     "execution_count": 142,
     "metadata": {},
     "output_type": "execute_result"
    }
   ],
   "source": [
    "work_dir = \"/Users/ho/Documents/LLD/AI/data/\"\n",
    "\n",
    "df = feather.read_feather(work_dir + \"3y_mechul.feather\")\n",
    "df"
   ]
  },
  {
   "cell_type": "code",
   "execution_count": 130,
   "id": "b387bb6d",
   "metadata": {},
   "outputs": [
    {
     "data": {
      "text/plain": [
       "array(['14', '7', '6', '1', '10', '3', '8', '180', '70', '5', '9', '40',\n",
       "       '4', '2', '24', '15', '90', '30', '0', '270', '25', '12', '48',\n",
       "       '72', '20', '185', '60', '365', '21', '210', '120', '160', '320',\n",
       "       '430', '495', '45', '13', '18', '11', '16', '61', '235', '225',\n",
       "       '720', '46', '80', '360'], dtype=object)"
      ]
     },
     "execution_count": 130,
     "metadata": {},
     "output_type": "execute_result"
    }
   ],
   "source": [
    "df['MAXLZ'].unique()"
   ]
  },
  {
   "cell_type": "code",
   "execution_count": 6,
   "id": "c7875bb6",
   "metadata": {
    "scrolled": true
   },
   "outputs": [
    {
     "data": {
      "text/plain": [
       "PRODH\n",
       "100    401489\n",
       "       356447\n",
       "290     76862\n",
       "240     21300\n",
       "110      9689\n",
       "120      3648\n",
       "300      2520\n",
       "230       568\n",
       "210       423\n",
       "180       276\n",
       "190        28\n",
       "140         8\n",
       "200         1\n",
       "Name: count, dtype: int64"
      ]
     },
     "execution_count": 6,
     "metadata": {},
     "output_type": "execute_result"
    }
   ],
   "source": [
    "# 제품 브랜드\n",
    "df['PRODH'].value_counts()"
   ]
  },
  {
   "cell_type": "code",
   "execution_count": 8,
   "id": "315e8430",
   "metadata": {
    "scrolled": true
   },
   "outputs": [
    {
     "data": {
      "text/plain": [
       "SPART\n",
       "02    749925\n",
       "03     61930\n",
       "01     61386\n",
       "Z1        18\n",
       "Name: count, dtype: int64"
      ]
     },
     "execution_count": 8,
     "metadata": {},
     "output_type": "execute_result"
    }
   ],
   "source": [
    "# 제품군\n",
    "df['SPART'].value_counts()"
   ]
  },
  {
   "cell_type": "code",
   "execution_count": 9,
   "id": "14fd5782",
   "metadata": {
    "scrolled": true
   },
   "outputs": [
    {
     "data": {
      "text/plain": [
       "JIYEOK\n",
       "경기    408310\n",
       "대구     75673\n",
       "인천     72200\n",
       "경남     71318\n",
       "세종     66886\n",
       "강원     65695\n",
       "광주     65283\n",
       "대전     25289\n",
       "서울     12666\n",
       "전북      5665\n",
       "충남      3535\n",
       "충북       384\n",
       "전남       355\n",
       "Name: count, dtype: int64"
      ]
     },
     "execution_count": 9,
     "metadata": {},
     "output_type": "execute_result"
    }
   ],
   "source": [
    "# 지역\n",
    "df['JIYEOK'].value_counts()"
   ]
  },
  {
   "cell_type": "code",
   "execution_count": 10,
   "id": "2973790b",
   "metadata": {},
   "outputs": [
    {
     "data": {
      "text/plain": [
       "WEEKDAY\n",
       "2    129496\n",
       "3    129161\n",
       "0    128610\n",
       "4    128009\n",
       "1    126715\n",
       "5    115977\n",
       "6    115291\n",
       "Name: count, dtype: int64"
      ]
     },
     "execution_count": 10,
     "metadata": {},
     "output_type": "execute_result"
    }
   ],
   "source": [
    "# 요일\n",
    "df['WEEKDAY'].value_counts()"
   ]
  },
  {
   "cell_type": "code",
   "execution_count": 11,
   "id": "1a1a3220",
   "metadata": {
    "scrolled": true
   },
   "outputs": [
    {
     "data": {
      "text/plain": [
       "WEIGHT\n",
       "0.20       86415\n",
       "0.25       73055\n",
       "0.30       69514\n",
       "500.00     61904\n",
       "1.00       51007\n",
       "           ...  \n",
       "1560.00        1\n",
       "0.40           1\n",
       "410.00         1\n",
       "454.00         1\n",
       "2500.00        1\n",
       "Name: count, Length: 263, dtype: int64"
      ]
     },
     "execution_count": 11,
     "metadata": {},
     "output_type": "execute_result"
    }
   ],
   "source": [
    "# 중량\n",
    "df['WEIGHT'].value_counts()"
   ]
  },
  {
   "cell_type": "code",
   "execution_count": 22,
   "id": "e1fe8792",
   "metadata": {},
   "outputs": [
    {
     "data": {
      "text/plain": [
       "GEWEI\n",
       "KG    542059\n",
       "G     331198\n",
       "OZ         2\n",
       "Name: count, dtype: int64"
      ]
     },
     "execution_count": 22,
     "metadata": {},
     "output_type": "execute_result"
    }
   ],
   "source": [
    "# 중량 단위\n",
    "df['GEWEI'].value_counts()"
   ]
  },
  {
   "cell_type": "code",
   "execution_count": 12,
   "id": "fb5c66ed",
   "metadata": {
    "scrolled": true
   },
   "outputs": [
    {
     "data": {
      "text/plain": [
       "MAXLZ\n",
       "4      264923\n",
       "6      113175\n",
       "3       82367\n",
       "1       59810\n",
       "5       49405\n",
       "40      46319\n",
       "90      30483\n",
       "24      28907\n",
       "7       28288\n",
       "14      23627\n",
       "15      23537\n",
       "9       20631\n",
       "2       19703\n",
       "180     13491\n",
       "72      12026\n",
       "10      11503\n",
       "0       10046\n",
       "365      8485\n",
       "30       7925\n",
       "20       6233\n",
       "8        4938\n",
       "12       2396\n",
       "21       1285\n",
       "60       1035\n",
       "270       883\n",
       "61        399\n",
       "70        373\n",
       "13        279\n",
       "120       237\n",
       "45        208\n",
       "235       164\n",
       "185        43\n",
       "48         31\n",
       "360        21\n",
       "210        21\n",
       "495        17\n",
       "225        14\n",
       "80         10\n",
       "430         6\n",
       "11          3\n",
       "320         2\n",
       "18          2\n",
       "25          2\n",
       "46          2\n",
       "160         2\n",
       "16          1\n",
       "720         1\n",
       "Name: count, dtype: int64"
      ]
     },
     "execution_count": 12,
     "metadata": {},
     "output_type": "execute_result"
    }
   ],
   "source": [
    "# 유통기간\n",
    "df['MAXLZ'].value_counts()"
   ]
  },
  {
   "cell_type": "code",
   "execution_count": 13,
   "id": "a3804e86",
   "metadata": {},
   "outputs": [
    {
     "data": {
      "text/plain": [
       "LZEIH\n",
       "DAY    618376\n",
       "월      195177\n",
       "HR      24220\n",
       "년       17682\n",
       "H       12057\n",
       "         5732\n",
       "주          15\n",
       "Name: count, dtype: int64"
      ]
     },
     "execution_count": 13,
     "metadata": {},
     "output_type": "execute_result"
    }
   ],
   "source": [
    "# 유통기간 구분\n",
    "df['LZEIH'].value_counts()"
   ]
  },
  {
   "cell_type": "code",
   "execution_count": 19,
   "id": "e6bb6f61",
   "metadata": {},
   "outputs": [
    {
     "data": {
      "text/plain": [
       "SOMET\n",
       "0        679609\n",
       "1        134506\n",
       "3500       7504\n",
       "6900       4873\n",
       "1200       3238\n",
       "          ...  \n",
       "4345          1\n",
       "10000         1\n",
       "49000         1\n",
       "3950          1\n",
       "4290          1\n",
       "Name: count, Length: 174, dtype: int64"
      ]
     },
     "execution_count": 19,
     "metadata": {},
     "output_type": "execute_result"
    }
   ],
   "source": [
    "# 소매가\n",
    "df['SOMET'].value_counts()"
   ]
  },
  {
   "cell_type": "code",
   "execution_count": 20,
   "id": "166b83fb",
   "metadata": {},
   "outputs": [
    {
     "data": {
      "text/plain": [
       "FKIMG\n",
       " 1.0        25124\n",
       " 2.0        20836\n",
       " 4.0        16786\n",
       " 3.0        16128\n",
       " 5.0        15245\n",
       "            ...  \n",
       "-2180.0         1\n",
       "-2900.0         1\n",
       "-3343.0         1\n",
       " 10023.0        1\n",
       " 2867.5         1\n",
       "Name: count, Length: 14055, dtype: int64"
      ]
     },
     "execution_count": 20,
     "metadata": {},
     "output_type": "execute_result"
    }
   ],
   "source": [
    "# 주문 수량\n",
    "df['FKIMG'].value_counts()"
   ]
  },
  {
   "cell_type": "code",
   "execution_count": 44,
   "id": "3faaae83",
   "metadata": {},
   "outputs": [
    {
     "data": {
      "text/plain": [
       "MAKTX\n",
       "마늘토핑                      12912\n",
       "뉴아몬드크림                    12434\n",
       "옥수수 토핑물                   12162\n",
       "연유토핑물                     12123\n",
       "마요토핑물                     12121\n",
       "                          ...  \n",
       "바닐라빈 페이스트                     1\n",
       "샐러드 믹스그린_400g                 1\n",
       "아로마 비닐라 V150,액상,              1\n",
       "샌드팜)청크라이트튜나(11.31kg)          1\n",
       "PREMIX 929KST,20kg,가공,        1\n",
       "Name: count, Length: 70, dtype: int64"
      ]
     },
     "execution_count": 44,
     "metadata": {},
     "output_type": "execute_result"
    }
   ],
   "source": [
    "df[df['PRODH']=='   ']['MAKTX'].value_counts()"
   ]
  },
  {
   "cell_type": "code",
   "execution_count": 143,
   "id": "6ce5c5fb",
   "metadata": {},
   "outputs": [],
   "source": [
    "# 레이블 인코더 생성\n",
    "label_encoder = LabelEncoder()\n",
    "\n",
    "columns_to_encode = ['SPART', 'JIYEOK', 'MVGR1', 'MVGR2', 'MVGR3','MVGR4','MVGR5']\n",
    "for column in columns_to_encode:\n",
    "    # 문자열 컬럼을 정수로 인코딩\n",
    "    encoded_column = label_encoder.fit_transform(df[column])\n",
    "    # 인코딩된 컬럼을 데이터프레임에 할당\n",
    "    df[column] = encoded_column"
   ]
  },
  {
   "cell_type": "code",
   "execution_count": 144,
   "id": "7ff40d91",
   "metadata": {},
   "outputs": [],
   "source": [
    "# 제품 브랜드 ‘   ‘ (비어있는 변수) 처리\n",
    "df.loc[df['PRODH'] == '   ', 'PRODH'] = '0'\n",
    "\n",
    "# 변수 int로 변경\n",
    "df['PRODH'] = df['PRODH'].astype(int)"
   ]
  },
  {
   "cell_type": "code",
   "execution_count": 145,
   "id": "191b075b",
   "metadata": {},
   "outputs": [],
   "source": [
    "df['WEEKDAY'] = df['WEEKDAY'].astype(int)"
   ]
  },
  {
   "cell_type": "code",
   "execution_count": 146,
   "id": "d56e0294",
   "metadata": {},
   "outputs": [],
   "source": [
    "# 중량을 Gram으로 통일\n",
    "df.loc[df['GEWEI'] == 'KG', 'WEIGHT'] = df.loc[df['GEWEI'] == 'KG', 'WEIGHT'] * 1000\n",
    "df.loc[df['GEWEI'] == 'OZ', 'WEIGHT'] = df.loc[df['GEWEI'] == 'OZ', 'WEIGHT'] * 28.3495"
   ]
  },
  {
   "cell_type": "code",
   "execution_count": 147,
   "id": "254eae4b",
   "metadata": {},
   "outputs": [],
   "source": [
    "df['MAXLZ'] = df['MAXLZ'].astype(int)\n",
    "\n",
    "# 유통기간을 DAY로 통일 (H, HR은 뭔지 몰라서 삭제)\n",
    "df = df[df['LZEIH'] != ' ']\n",
    "df = df[df['LZEIH'] != 'H']\n",
    "df = df[df['LZEIH'] != 'HR']\n",
    "\n",
    "\n",
    "df.loc[df['LZEIH'] == '주', 'MAXLZ'] = df.loc[df['LZEIH'] == '주', 'MAXLZ'] * 7\n",
    "df.loc[df['LZEIH'] == '월', 'MAXLZ'] = df.loc[df['LZEIH'] == '월', 'MAXLZ'] * 30\n",
    "df.loc[df['LZEIH'] == '년', 'MAXLZ'] = df.loc[df['LZEIH'] == '년', 'MAXLZ'] * 365"
   ]
  },
  {
   "cell_type": "code",
   "execution_count": 162,
   "id": "126a7182",
   "metadata": {},
   "outputs": [],
   "source": [
    "X = df[['PRODH', 'SPART', 'JIYEOK', 'WEEKDAY', 'WEIGHT', 'MAXLZ']]"
   ]
  },
  {
   "cell_type": "code",
   "execution_count": 163,
   "id": "199ea8e4",
   "metadata": {},
   "outputs": [
    {
     "data": {
      "text/plain": [
       "PRODH      0\n",
       "SPART      0\n",
       "JIYEOK     0\n",
       "WEEKDAY    0\n",
       "WEIGHT     0\n",
       "MAXLZ      0\n",
       "dtype: int64"
      ]
     },
     "execution_count": 163,
     "metadata": {},
     "output_type": "execute_result"
    }
   ],
   "source": [
    "X.isna().sum()   "
   ]
  },
  {
   "cell_type": "code",
   "execution_count": 164,
   "id": "2ed935e9",
   "metadata": {},
   "outputs": [],
   "source": [
    "y = df['FKIMG']"
   ]
  },
  {
   "cell_type": "code",
   "execution_count": 165,
   "id": "78fbb93c",
   "metadata": {},
   "outputs": [
    {
     "name": "stdout",
     "output_type": "stream",
     "text": [
      "Mean Squared Error: 3965700.0097124465\n"
     ]
    }
   ],
   "source": [
    "# 학습 데이터와 테스트 데이터로 분할\n",
    "X_train, X_test, y_train, y_test = train_test_split(X, y, test_size=0.2, random_state=42)\n",
    "\n",
    "# 랜덤 포레스트 회귀 모델 생성 및 학습\n",
    "rf_regressor = RandomForestRegressor(n_estimators=100, random_state=42)\n",
    "rf_regressor.fit(X_train, y_train)\n",
    "\n",
    "# 학습된 모델을 사용하여 예측\n",
    "y_pred = rf_regressor.predict(X_test)\n",
    "\n",
    "# 회귀 모델의 성능 평가 (평균 제곱 오차)\n",
    "mse = mean_squared_error(y_test, y_pred)\n",
    "print(\"Mean Squared Error:\", mse)"
   ]
  },
  {
   "cell_type": "code",
   "execution_count": 166,
   "id": "cc377830",
   "metadata": {},
   "outputs": [
    {
     "data": {
      "image/png": "[encoded data removed]",
      "text/plain": [
       "<Figure size 640x480 with 1 Axes>"
      ]
     },
     "metadata": {},
     "output_type": "display_data"
    }
   ],
   "source": [
    "import matplotlib.pyplot as plt\n",
    "\n",
    "# 산점도 그리기\n",
    "plt.scatter(y_test, y_pred)\n",
    "plt.xlabel('real')\n",
    "plt.ylabel('predict')\n",
    "plt.title('real vs predict')\n",
    "plt.show()"
   ]
  },
  {
   "cell_type": "code",
   "execution_count": 167,
   "id": "0c0bd1d7",
   "metadata": {},
   "outputs": [
    {
     "data": {
      "image/png": "[encoded data removed]",
      "text/plain": [
       "<Figure size 640x480 with 1 Axes>"
      ]
     },
     "metadata": {},
     "output_type": "display_data"
    }
   ],
   "source": [
    "error = y_test - y_pred\n",
    "\n",
    "# 예측 오차의 분포를 히스토그램으로 그리기\n",
    "plt.hist(error, bins=20)\n",
    "plt.xlabel('prediction error')\n",
    "plt.ylabel('frequency')\n",
    "plt.title('Distribution of prediction error')\n",
    "plt.show()"
   ]
  },
  {
   "cell_type": "code",
   "execution_count": null,
   "id": "ab375b05",
   "metadata": {},
   "outputs": [],
   "source": []
  }
 ],
 "metadata": {
  "kernelspec": {
   "display_name": "rl",
   "language": "python",
   "name": "rl"
  },
  "language_info": {
   "codemirror_mode": {
    "name": "ipython",
    "version": 3
   },
   "file_extension": ".py",
   "mimetype": "text/x-python",
   "name": "python",
   "nbconvert_exporter": "python",
   "pygments_lexer": "ipython3",
   "version": "3.9.15"
  }
 },
 "nbformat": 4,
 "nbformat_minor": 5
}
