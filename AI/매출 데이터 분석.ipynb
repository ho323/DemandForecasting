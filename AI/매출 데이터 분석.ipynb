{
 "cells": [
  {
   "cell_type": "code",
   "execution_count": 2,
   "id": "f56591e6",
   "metadata": {},
   "outputs": [],
   "source": [
    "import matplotlib.pyplot as plt\n",
    "import pandas as pd\n",
    "import numpy as np\n",
    "import pyarrow.feather as feather"
   ]
  },
  {
   "cell_type": "code",
   "execution_count": 76,
   "id": "669e3d5e",
   "metadata": {},
   "outputs": [],
   "source": [
    "work_dir = \"/Users/ho/Documents/LLD/AI/\"\n",
    "\n",
    "df = feather.read_feather(work_dir + \"3y_mechul.feather\")\n",
    "\n",
    "spot_ = 770008\n",
    "data = df[df['MATNR']==spot_]"
   ]
  },
  {
   "cell_type": "code",
   "execution_count": 77,
   "id": "b68d1170",
   "metadata": {
    "scrolled": true
   },
   "outputs": [
    {
     "data": {
      "text/plain": [
       "['FKDAT',\n",
       " 'WEEKDAY',\n",
       " 'KUNNR',\n",
       " 'FKART',\n",
       " 'AUGRU_AUFT',\n",
       " 'MATNR',\n",
       " 'VRKME_x',\n",
       " 'SPART',\n",
       " 'FKIMG',\n",
       " 'FKLMG',\n",
       " 'MEINS',\n",
       " 'CHQTY',\n",
       " 'TOT_GUBUN',\n",
       " 'ARE_GUBUN',\n",
       " 'NETWR',\n",
       " 'MWSBP',\n",
       " 'DOWIM',\n",
       " 'DOW',\n",
       " 'KDGRP',\n",
       " 'VKBUR',\n",
       " 'VKGRP',\n",
       " 'OPENDATE',\n",
       " 'ORT01',\n",
       " 'JIYEOK',\n",
       " 'ORDER_WEEK',\n",
       " 'NIELS',\n",
       " 'KUKLA',\n",
       " 'X',\n",
       " 'Y',\n",
       " 'Z',\n",
       " 'GFORM',\n",
       " 'EX_KUNNR',\n",
       " 'ZZMTYP',\n",
       " 'MUL_GUB',\n",
       " 'OBLIG',\n",
       " 'KLIMK',\n",
       " 'GUBUN',\n",
       " 'VSBED',\n",
       " 'J_001',\n",
       " 'J_002',\n",
       " 'J_003',\n",
       " 'J_004',\n",
       " 'J_005',\n",
       " 'J_006',\n",
       " 'J_007',\n",
       " 'J_008',\n",
       " 'J_009',\n",
       " 'J_010',\n",
       " 'J_011',\n",
       " 'J_012',\n",
       " 'J_013',\n",
       " 'J_014',\n",
       " 'J_015',\n",
       " 'J_016',\n",
       " 'J_017',\n",
       " 'J_018',\n",
       " 'J_019',\n",
       " 'J_020',\n",
       " 'J_021',\n",
       " 'J_022',\n",
       " 'J_023',\n",
       " 'J_024',\n",
       " 'J_025',\n",
       " 'J_026',\n",
       " 'TMS_ADR',\n",
       " 'DANGA_ZERO',\n",
       " 'ZGFORM',\n",
       " 'AREA_POINT',\n",
       " 'GUBUN_ALERT',\n",
       " 'VTWEG',\n",
       " 'KONDA',\n",
       " 'COLL_MON',\n",
       " 'MAKTX',\n",
       " 'MVGR1',\n",
       " 'MVGR2',\n",
       " 'MVGR3',\n",
       " 'SOMET',\n",
       " 'WEIGHT',\n",
       " 'BARCD',\n",
       " 'KCAL',\n",
       " 'IMAGE_PATH',\n",
       " 'USEYN',\n",
       " 'UNIT',\n",
       " 'PRODH',\n",
       " 'VRKME_y',\n",
       " 'ITIME',\n",
       " 'INFO_IMAGE',\n",
       " 'RECIPE',\n",
       " 'MVGR4',\n",
       " 'MVGR5',\n",
       " 'MEMO',\n",
       " 'MSTAE',\n",
       " 'MAXLZ',\n",
       " 'LZEIH',\n",
       " 'TEXT1',\n",
       " 'REG_DATE',\n",
       " 'REG_ID',\n",
       " 'CHG_DATE',\n",
       " 'CHG_ID',\n",
       " 'GEWEI',\n",
       " 'WEB_GB']"
      ]
     },
     "execution_count": 77,
     "metadata": {},
     "output_type": "execute_result"
    }
   ],
   "source": [
    "list(df.columns)"
   ]
  },
  {
   "cell_type": "code",
   "execution_count": 150,
   "id": "34597441",
   "metadata": {},
   "outputs": [
    {
     "name": "stdout",
     "output_type": "stream",
     "text": [
      "['KG' 'G' 'OZ']\n",
      "['KG']\n"
     ]
    }
   ],
   "source": [
    "x = 'GEWEI'\n",
    "print(df[x].unique())\n",
    "print(data[x].unique())"
   ]
  },
  {
   "cell_type": "code",
   "execution_count": 90,
   "id": "81a26036",
   "metadata": {},
   "outputs": [
    {
     "data": {
      "text/plain": [
       "array(['KG', 'BON', 'CS', 'BOX', 'BAG', 'EA'], dtype=object)"
      ]
     },
     "execution_count": 90,
     "metadata": {},
     "output_type": "execute_result"
    }
   ],
   "source": [
    "# 판매 단위\n",
    "df['VRKME_x'].unique()"
   ]
  },
  {
   "cell_type": "code",
   "execution_count": 93,
   "id": "a9a380b1",
   "metadata": {},
   "outputs": [
    {
     "data": {
      "text/plain": [
       "array([' ', 'CS', 'BOX', 'BON', 'BAG'], dtype=object)"
      ]
     },
     "execution_count": 93,
     "metadata": {},
     "output_type": "execute_result"
    }
   ],
   "source": [
    "# 판매 단위\n",
    "df['VRKME_y'].unique()"
   ]
  },
  {
   "cell_type": "code",
   "execution_count": 95,
   "id": "1d81c009",
   "metadata": {},
   "outputs": [
    {
     "data": {
      "text/plain": [
       "array(['02', '01', '03', 'Z1'], dtype=object)"
      ]
     },
     "execution_count": 95,
     "metadata": {},
     "output_type": "execute_result"
    }
   ],
   "source": [
    "# 제품군\n",
    "df['SPART'].unique()"
   ]
  },
  {
   "cell_type": "code",
   "execution_count": 81,
   "id": "69086fd5",
   "metadata": {},
   "outputs": [
    {
     "name": "stdout",
     "output_type": "stream",
     "text": [
      "-105263.0\n",
      "148460.0\n"
     ]
    }
   ],
   "source": [
    "# 주문 수량\n",
    "print(df['FKIMG'].min())\n",
    "print(df['FKIMG'].max())"
   ]
  },
  {
   "cell_type": "code",
   "execution_count": 82,
   "id": "1a1b34ea",
   "metadata": {},
   "outputs": [
    {
     "name": "stdout",
     "output_type": "stream",
     "text": [
      "-260190.0\n",
      "260190.0\n"
     ]
    }
   ],
   "source": [
    "# 출하 수량\n",
    "print(df['FKLMG'].min())\n",
    "print(df['FKLMG'].max())"
   ]
  },
  {
   "cell_type": "code",
   "execution_count": 83,
   "id": "3647b12e",
   "metadata": {},
   "outputs": [
    {
     "name": "stdout",
     "output_type": "stream",
     "text": [
      "-65520.0\n",
      "131040.0\n"
     ]
    }
   ],
   "source": [
    "# 납품 수량\n",
    "print(df['CHQTY'].min())\n",
    "print(df['CHQTY'].max())"
   ]
  },
  {
   "cell_type": "code",
   "execution_count": 84,
   "id": "2bccf1f7",
   "metadata": {},
   "outputs": [
    {
     "name": "stdout",
     "output_type": "stream",
     "text": [
      "-157018800\n",
      "234325280\n"
     ]
    }
   ],
   "source": [
    "# 납품액\n",
    "print(df['NETWR'].min())\n",
    "print(df['NETWR'].max())"
   ]
  },
  {
   "cell_type": "code",
   "execution_count": 98,
   "id": "96d9964c",
   "metadata": {},
   "outputs": [
    {
     "data": {
      "text/plain": [
       "array(['KG', 'BON', 'BOT', 'EA'], dtype=object)"
      ]
     },
     "execution_count": 98,
     "metadata": {},
     "output_type": "execute_result"
    }
   ],
   "source": [
    "# 구매 오더 단위\n",
    "df['MEINS'].unique()"
   ]
  },
  {
   "cell_type": "code",
   "execution_count": 100,
   "id": "4159f409",
   "metadata": {},
   "outputs": [
    {
     "data": {
      "text/plain": [
       "array(['F2', 'S1', 'YRE', 'YRES', 'YN', 'RE', 'YNS', 'S2', 'G2', 'L2',\n",
       "       'YDC', 'YDD', 'YDDS', 'YDCS', 'YDR2', 'YCR2'], dtype=object)"
      ]
     },
     "execution_count": 100,
     "metadata": {},
     "output_type": "execute_result"
    }
   ],
   "source": [
    "# 오더 유형\n",
    "df['FKART'].unique()"
   ]
  },
  {
   "cell_type": "code",
   "execution_count": 103,
   "id": "676eb4e1",
   "metadata": {},
   "outputs": [
    {
     "data": {
      "text/plain": [
       "array([4, 5, 6, 7, 2, 3, 1])"
      ]
     },
     "execution_count": 103,
     "metadata": {},
     "output_type": "execute_result"
    }
   ],
   "source": [
    "# 요일 코드\n",
    "df['DOW'].unique()"
   ]
  },
  {
   "cell_type": "code",
   "execution_count": 104,
   "id": "641936f5",
   "metadata": {},
   "outputs": [
    {
     "data": {
      "text/plain": [
       "['02', '01']\n",
       "Categories (2, object): ['01', '02']"
      ]
     },
     "execution_count": 104,
     "metadata": {},
     "output_type": "execute_result"
    }
   ],
   "source": [
    "# 납품 가능 제품\n",
    "df['KUKLA'].unique()"
   ]
  },
  {
   "cell_type": "code",
   "execution_count": 105,
   "id": "46ad8841",
   "metadata": {},
   "outputs": [
    {
     "data": {
      "text/plain": [
       "array(['240', '100', '110', '290', '210', '120', '230', '   ', '180',\n",
       "       '300', '190', '200', '140'], dtype=object)"
      ]
     },
     "execution_count": 105,
     "metadata": {},
     "output_type": "execute_result"
    }
   ],
   "source": [
    "# 제품 브랜드\n",
    "df['PRODH'].unique()"
   ]
  },
  {
   "cell_type": "code",
   "execution_count": 106,
   "id": "922c5e40",
   "metadata": {},
   "outputs": [
    {
     "data": {
      "text/plain": [
       "array([0])"
      ]
     },
     "execution_count": 106,
     "metadata": {},
     "output_type": "execute_result"
    }
   ],
   "source": [
    "# 유통기간\n",
    "df['ITIME'].unique()"
   ]
  },
  {
   "cell_type": "code",
   "execution_count": 109,
   "id": "544605d9",
   "metadata": {},
   "outputs": [
    {
     "data": {
      "text/plain": [
       "array(['DAY', '월', '주', 'HR', '년', ' ', 'H'], dtype=object)"
      ]
     },
     "execution_count": 109,
     "metadata": {},
     "output_type": "execute_result"
    }
   ],
   "source": [
    "# 유통기간구분\n",
    "df['LZEIH'].unique()"
   ]
  },
  {
   "cell_type": "code",
   "execution_count": 111,
   "id": "99390321",
   "metadata": {},
   "outputs": [
    {
     "data": {
      "text/plain": [
       "['04', '03', '02', '01']\n",
       "Categories (4, object): ['01', '02', '03', '04']"
      ]
     },
     "execution_count": 111,
     "metadata": {},
     "output_type": "execute_result"
    }
   ],
   "source": [
    "# 가격 구분\n",
    "df['KONDA'].unique()"
   ]
  },
  {
   "cell_type": "code",
   "execution_count": 152,
   "id": "fd7d2a77",
   "metadata": {},
   "outputs": [
    {
     "data": {
      "text/html": [
       "<div>\n",
       "<style scoped>\n",
       "    .dataframe tbody tr th:only-of-type {\n",
       "        vertical-align: middle;\n",
       "    }\n",
       "\n",
       "    .dataframe tbody tr th {\n",
       "        vertical-align: top;\n",
       "    }\n",
       "\n",
       "    .dataframe thead th {\n",
       "        text-align: right;\n",
       "    }\n",
       "</style>\n",
       "<table border=\"1\" class=\"dataframe\">\n",
       "  <thead>\n",
       "    <tr style=\"text-align: right;\">\n",
       "      <th></th>\n",
       "      <th>FKDAT</th>\n",
       "      <th>DOW</th>\n",
       "      <th>FKIMG</th>\n",
       "      <th>FKLMG</th>\n",
       "      <th>CHQTY</th>\n",
       "      <th>NETWR</th>\n",
       "      <th>FKART</th>\n",
       "      <th>KUKLA</th>\n",
       "    </tr>\n",
       "  </thead>\n",
       "  <tbody>\n",
       "    <tr>\n",
       "      <th>0</th>\n",
       "      <td>2020-01-01</td>\n",
       "      <td>4</td>\n",
       "      <td>6800.0</td>\n",
       "      <td>6800.0</td>\n",
       "      <td>340.000</td>\n",
       "      <td>15640000</td>\n",
       "      <td>F2</td>\n",
       "      <td>02</td>\n",
       "    </tr>\n",
       "    <tr>\n",
       "      <th>1</th>\n",
       "      <td>2020-01-01</td>\n",
       "      <td>4</td>\n",
       "      <td>-3400.0</td>\n",
       "      <td>-3400.0</td>\n",
       "      <td>-170.000</td>\n",
       "      <td>-7820000</td>\n",
       "      <td>S1</td>\n",
       "      <td>02</td>\n",
       "    </tr>\n",
       "    <tr>\n",
       "      <th>2</th>\n",
       "      <td>2020-01-02</td>\n",
       "      <td>5</td>\n",
       "      <td>6520.0</td>\n",
       "      <td>6520.0</td>\n",
       "      <td>326.000</td>\n",
       "      <td>14996000</td>\n",
       "      <td>F2</td>\n",
       "      <td>02</td>\n",
       "    </tr>\n",
       "    <tr>\n",
       "      <th>3</th>\n",
       "      <td>2020-01-02</td>\n",
       "      <td>5</td>\n",
       "      <td>-3260.0</td>\n",
       "      <td>-3260.0</td>\n",
       "      <td>-163.000</td>\n",
       "      <td>-7498000</td>\n",
       "      <td>S1</td>\n",
       "      <td>02</td>\n",
       "    </tr>\n",
       "    <tr>\n",
       "      <th>4</th>\n",
       "      <td>2020-01-03</td>\n",
       "      <td>6</td>\n",
       "      <td>-3060.0</td>\n",
       "      <td>-3060.0</td>\n",
       "      <td>-153.000</td>\n",
       "      <td>-7038000</td>\n",
       "      <td>S1</td>\n",
       "      <td>02</td>\n",
       "    </tr>\n",
       "    <tr>\n",
       "      <th>...</th>\n",
       "      <td>...</td>\n",
       "      <td>...</td>\n",
       "      <td>...</td>\n",
       "      <td>...</td>\n",
       "      <td>...</td>\n",
       "      <td>...</td>\n",
       "      <td>...</td>\n",
       "      <td>...</td>\n",
       "    </tr>\n",
       "    <tr>\n",
       "      <th>873254</th>\n",
       "      <td>2022-12-27</td>\n",
       "      <td>3</td>\n",
       "      <td>136.0</td>\n",
       "      <td>136.0</td>\n",
       "      <td>17.000</td>\n",
       "      <td>1229304</td>\n",
       "      <td>F2</td>\n",
       "      <td>01</td>\n",
       "    </tr>\n",
       "    <tr>\n",
       "      <th>873255</th>\n",
       "      <td>2022-12-28</td>\n",
       "      <td>4</td>\n",
       "      <td>255.0</td>\n",
       "      <td>255.0</td>\n",
       "      <td>31.875</td>\n",
       "      <td>2304945</td>\n",
       "      <td>F2</td>\n",
       "      <td>01</td>\n",
       "    </tr>\n",
       "    <tr>\n",
       "      <th>873256</th>\n",
       "      <td>2022-12-29</td>\n",
       "      <td>5</td>\n",
       "      <td>289.0</td>\n",
       "      <td>289.0</td>\n",
       "      <td>36.125</td>\n",
       "      <td>2612271</td>\n",
       "      <td>F2</td>\n",
       "      <td>01</td>\n",
       "    </tr>\n",
       "    <tr>\n",
       "      <th>873257</th>\n",
       "      <td>2022-12-30</td>\n",
       "      <td>6</td>\n",
       "      <td>204.0</td>\n",
       "      <td>204.0</td>\n",
       "      <td>25.500</td>\n",
       "      <td>1843956</td>\n",
       "      <td>F2</td>\n",
       "      <td>01</td>\n",
       "    </tr>\n",
       "    <tr>\n",
       "      <th>873258</th>\n",
       "      <td>2022-12-31</td>\n",
       "      <td>7</td>\n",
       "      <td>306.0</td>\n",
       "      <td>306.0</td>\n",
       "      <td>38.250</td>\n",
       "      <td>2765934</td>\n",
       "      <td>F2</td>\n",
       "      <td>01</td>\n",
       "    </tr>\n",
       "  </tbody>\n",
       "</table>\n",
       "<p>873259 rows × 8 columns</p>\n",
       "</div>"
      ],
      "text/plain": [
       "            FKDAT  DOW   FKIMG   FKLMG    CHQTY     NETWR FKART KUKLA\n",
       "0      2020-01-01    4  6800.0  6800.0  340.000  15640000    F2    02\n",
       "1      2020-01-01    4 -3400.0 -3400.0 -170.000  -7820000    S1    02\n",
       "2      2020-01-02    5  6520.0  6520.0  326.000  14996000    F2    02\n",
       "3      2020-01-02    5 -3260.0 -3260.0 -163.000  -7498000    S1    02\n",
       "4      2020-01-03    6 -3060.0 -3060.0 -153.000  -7038000    S1    02\n",
       "...           ...  ...     ...     ...      ...       ...   ...   ...\n",
       "873254 2022-12-27    3   136.0   136.0   17.000   1229304    F2    01\n",
       "873255 2022-12-28    4   255.0   255.0   31.875   2304945    F2    01\n",
       "873256 2022-12-29    5   289.0   289.0   36.125   2612271    F2    01\n",
       "873257 2022-12-30    6   204.0   204.0   25.500   1843956    F2    01\n",
       "873258 2022-12-31    7   306.0   306.0   38.250   2765934    F2    01\n",
       "\n",
       "[873259 rows x 8 columns]"
      ]
     },
     "execution_count": 152,
     "metadata": {},
     "output_type": "execute_result"
    }
   ],
   "source": [
    "data = df[['FKDAT', 'DOW', 'FKIMG', 'FKLMG', 'CHQTY', 'NETWR', 'FKART', 'KUKLA']]\n",
    "data"
   ]
  },
  {
   "cell_type": "code",
   "execution_count": 195,
   "id": "3da30183",
   "metadata": {},
   "outputs": [
    {
     "data": {
      "text/html": [
       "<div>\n",
       "<style scoped>\n",
       "    .dataframe tbody tr th:only-of-type {\n",
       "        vertical-align: middle;\n",
       "    }\n",
       "\n",
       "    .dataframe tbody tr th {\n",
       "        vertical-align: top;\n",
       "    }\n",
       "\n",
       "    .dataframe thead th {\n",
       "        text-align: right;\n",
       "    }\n",
       "</style>\n",
       "<table border=\"1\" class=\"dataframe\">\n",
       "  <thead>\n",
       "    <tr style=\"text-align: right;\">\n",
       "      <th></th>\n",
       "      <th>FKDAT</th>\n",
       "      <th>DOW</th>\n",
       "      <th>FKIMG</th>\n",
       "      <th>FKLMG</th>\n",
       "      <th>CHQTY</th>\n",
       "      <th>NETWR</th>\n",
       "    </tr>\n",
       "  </thead>\n",
       "  <tbody>\n",
       "    <tr>\n",
       "      <th>count</th>\n",
       "      <td>695</td>\n",
       "      <td>695.0</td>\n",
       "      <td>695.000000</td>\n",
       "      <td>695.000000</td>\n",
       "      <td>695.000000</td>\n",
       "      <td>6.950000e+02</td>\n",
       "    </tr>\n",
       "    <tr>\n",
       "      <th>mean</th>\n",
       "      <td>2020-01-01 00:00:00</td>\n",
       "      <td>4.0</td>\n",
       "      <td>392.903640</td>\n",
       "      <td>569.451842</td>\n",
       "      <td>80.054429</td>\n",
       "      <td>7.234402e+05</td>\n",
       "    </tr>\n",
       "    <tr>\n",
       "      <th>min</th>\n",
       "      <td>2020-01-01 00:00:00</td>\n",
       "      <td>4.0</td>\n",
       "      <td>-11750.000000</td>\n",
       "      <td>-11750.000000</td>\n",
       "      <td>-798.000000</td>\n",
       "      <td>-9.134580e+06</td>\n",
       "    </tr>\n",
       "    <tr>\n",
       "      <th>25%</th>\n",
       "      <td>2020-01-01 00:00:00</td>\n",
       "      <td>4.0</td>\n",
       "      <td>17.000000</td>\n",
       "      <td>18.000000</td>\n",
       "      <td>1.096000</td>\n",
       "      <td>3.133200e+04</td>\n",
       "    </tr>\n",
       "    <tr>\n",
       "      <th>50%</th>\n",
       "      <td>2020-01-01 00:00:00</td>\n",
       "      <td>4.0</td>\n",
       "      <td>62.000000</td>\n",
       "      <td>77.000000</td>\n",
       "      <td>5.500000</td>\n",
       "      <td>9.808000e+04</td>\n",
       "    </tr>\n",
       "    <tr>\n",
       "      <th>75%</th>\n",
       "      <td>2020-01-01 00:00:00</td>\n",
       "      <td>4.0</td>\n",
       "      <td>214.500000</td>\n",
       "      <td>290.500000</td>\n",
       "      <td>20.000000</td>\n",
       "      <td>4.267805e+05</td>\n",
       "    </tr>\n",
       "    <tr>\n",
       "      <th>max</th>\n",
       "      <td>2020-01-01 00:00:00</td>\n",
       "      <td>4.0</td>\n",
       "      <td>26990.000000</td>\n",
       "      <td>26990.000000</td>\n",
       "      <td>26990.000000</td>\n",
       "      <td>3.157952e+07</td>\n",
       "    </tr>\n",
       "    <tr>\n",
       "      <th>std</th>\n",
       "      <td>NaN</td>\n",
       "      <td>0.0</td>\n",
       "      <td>2472.078496</td>\n",
       "      <td>2749.419675</td>\n",
       "      <td>1035.943782</td>\n",
       "      <td>2.553142e+06</td>\n",
       "    </tr>\n",
       "  </tbody>\n",
       "</table>\n",
       "</div>"
      ],
      "text/plain": [
       "                     FKDAT    DOW         FKIMG         FKLMG         CHQTY   \n",
       "count                  695  695.0    695.000000    695.000000    695.000000  \\\n",
       "mean   2020-01-01 00:00:00    4.0    392.903640    569.451842     80.054429   \n",
       "min    2020-01-01 00:00:00    4.0 -11750.000000 -11750.000000   -798.000000   \n",
       "25%    2020-01-01 00:00:00    4.0     17.000000     18.000000      1.096000   \n",
       "50%    2020-01-01 00:00:00    4.0     62.000000     77.000000      5.500000   \n",
       "75%    2020-01-01 00:00:00    4.0    214.500000    290.500000     20.000000   \n",
       "max    2020-01-01 00:00:00    4.0  26990.000000  26990.000000  26990.000000   \n",
       "std                    NaN    0.0   2472.078496   2749.419675   1035.943782   \n",
       "\n",
       "              NETWR  \n",
       "count  6.950000e+02  \n",
       "mean   7.234402e+05  \n",
       "min   -9.134580e+06  \n",
       "25%    3.133200e+04  \n",
       "50%    9.808000e+04  \n",
       "75%    4.267805e+05  \n",
       "max    3.157952e+07  \n",
       "std    2.553142e+06  "
      ]
     },
     "execution_count": 195,
     "metadata": {},
     "output_type": "execute_result"
    }
   ],
   "source": [
    "data[data['FKDAT'] == '2020-01-01 00:00:00'].describe()"
   ]
  },
  {
   "cell_type": "code",
   "execution_count": 156,
   "id": "ede24c80",
   "metadata": {},
   "outputs": [
    {
     "data": {
      "text/plain": [
       "FKDAT    0\n",
       "DOW      0\n",
       "FKIMG    0\n",
       "FKLMG    0\n",
       "CHQTY    0\n",
       "NETWR    0\n",
       "FKART    0\n",
       "KUKLA    0\n",
       "dtype: int64"
      ]
     },
     "execution_count": 156,
     "metadata": {},
     "output_type": "execute_result"
    }
   ],
   "source": [
    "data.isnull().sum()"
   ]
  },
  {
   "cell_type": "code",
   "execution_count": 191,
   "id": "191a009a",
   "metadata": {},
   "outputs": [
    {
     "data": {
      "image/png": "[encoded data removed]",
      "text/plain": [
       "<Figure size 1000x500 with 4 Axes>"
      ]
     },
     "metadata": {},
     "output_type": "display_data"
    }
   ],
   "source": [
    "d_ = data.iloc[:650]\n",
    "\n",
    "plt.figure(figsize=(10,5))\n",
    "\n",
    "# 주문 수량\n",
    "plt.subplot(221)\n",
    "plt.plot(d_[\"FKDAT\"], d_[\"FKIMG\"], \"-\", label=str('FKIMG'), alpha=.6)\n",
    "plt.grid()\n",
    "plt.legend(fontsize=13)\n",
    "plt.xticks(rotation=90)\n",
    "\n",
    "# 출하 수량\n",
    "plt.subplot(222)\n",
    "plt.plot(d_[\"FKDAT\"], d_[\"FKLMG\"], \"-\", label=str('FKLMG'), alpha=.6)\n",
    "plt.grid()\n",
    "plt.legend(fontsize=13)\n",
    "plt.xticks(rotation=90)\n",
    "\n",
    "# 납품 수량\n",
    "plt.subplot(223)\n",
    "plt.plot(d_[\"FKDAT\"], d_[\"CHQTY\"], \"-\", label=str('CHQTY'), alpha=.6)\n",
    "plt.grid()\n",
    "plt.legend(fontsize=13)\n",
    "plt.xticks(rotation=90)\n",
    "\n",
    "# 납품액\n",
    "plt.subplot(224)\n",
    "plt.plot(d_[\"FKDAT\"], d_[\"NETWR\"], \"-\", label=str('NETWR'), alpha=.6)\n",
    "plt.grid()\n",
    "plt.legend(fontsize=13)\n",
    "plt.xticks(rotation=90)\n",
    "\n",
    "\n",
    "plt.show()"
   ]
  },
  {
   "cell_type": "code",
   "execution_count": null,
   "id": "a5b667cf",
   "metadata": {},
   "outputs": [],
   "source": []
  }
 ],
 "metadata": {
  "kernelspec": {
   "display_name": "rl",
   "language": "python",
   "name": "rl"
  },
  "language_info": {
   "codemirror_mode": {
    "name": "ipython",
    "version": 3
   },
   "file_extension": ".py",
   "mimetype": "text/x-python",
   "name": "python",
   "nbconvert_exporter": "python",
   "pygments_lexer": "ipython3",
   "version": "3.9.15"
  }
 },
 "nbformat": 4,
 "nbformat_minor": 5
}
